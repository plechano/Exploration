{
 "cells": [
  {
   "cell_type": "code",
   "execution_count": null,
   "metadata": {},
   "outputs": [],
   "source": [
    "import pandas as pd\n",
    "\n",
    "# On définit la variable path qui défini le dossier de stockage en local des données c'est la seule variable à modifier\n",
    "# On utilise le préfixe r pour indiquer une chaîne brute\n",
    "path = r\"D:\\Users\\P-DUMANOIR\\OneDrive - MSF\\1. Academic Learning\\CO2 Emission Project\\Données communes raw\\\\EEA\"\n",
    "\n",
    "#Reportoire des paths des membres du groupe pour référence facilitée\n",
    "#Sabrine path = r\"C:\\Users\\Sabrine\\Desktop\\PROJET_CO2\\Donnees_CO2\\etiq\\Donnees_Drive\"\n",
    "#Pauline path = r\"D:\\Users\\P-DUMANOIR\\OneDrive - MSF\\1. Academic Learning\\CO2 Emission Project\\Données communes raw\\\\EEA\"\n",
    "#Phanara path = r\"c:\\Users\\psok\\OneDrive - SQLI\\Bureau\\Emission de CO2 par les véhicules\\Exploration des données\\\\EEA\"\n",
    "#Anto path =\n",
    "\n",
    "# On va charger les données des différents fichiers dans différents dataframes df_eea_20xx, le séparateur utilisé est une tabulation \",\"\n",
    "#df_eea_2010 = pd.read_csv(filepath_or_buffer = path + \"\\\\EEA2010.csv\", sep = \",\")\n",
    "#df_eea_2011 = pd.read_csv(filepath_or_buffer = path + \"\\\\EEA2011.csv\", sep = \",\")\n",
    "#df_eea_2012 = pd.read_csv(filepath_or_buffer = path + \"\\\\EEA2012.csv\", sep = \",\")\n",
    "#df_eea_2013 = pd.read_csv(filepath_or_buffer = path + \"\\\\EEA2013.csv\", sep = \",\", dtype={\"IT\": str})\n",
    "#df_eea_2014 = pd.read_csv(filepath_or_buffer = path + \"\\\\EEA2014.csv\", sep = \",\", dtype={\"IT\": str})\n",
    "#df_eea_2015 = pd.read_csv(filepath_or_buffer = path + \"\\\\EEA2015.csv\", sep = \",\", dtype={\"IT\": str})\n",
    "#df_eea_2016 = pd.read_csv(filepath_or_buffer = path + \"\\\\EEA2016.csv\", sep = \",\")\n",
    "#df_eea_2017 = pd.read_csv(filepath_or_buffer = path + \"\\\\EEA2017.csv\", sep = \",\", dtype={\"VFN\" : str, \"Mp\" : str, \"MMS\" : str, \"Cr\" : str, \"IT\": str})\n",
    "#df_eea_2018 = pd.read_csv(filepath_or_buffer = path + \"\\\\EEA2018.csv\", sep = \",\", dtype={\"VFN\" : str, \"T\" : str, \"Cn\" : str, \"Cr\" : str, \"IT\": str})\n",
    "#df_eea_2019 = pd.read_csv(filepath_or_buffer = path + \"\\\\EEA2019.csv\", sep = \",\", dtype={\"T\" : str, \"Cn\" : str, \"IT\": str})\n",
    "#df_eea_2020 = pd.read_csv(filepath_or_buffer = path + \"\\\\EEA2020.csv\", sep = \",\", dtype={\"Mp\" : str, \"MMS\" : str, \"T\" : str, \"IT\": str})\n",
    "#df_eea_2021 = pd.read_csv(filepath_or_buffer = path + \"\\\\EEA2021.csv\", sep = \",\", dtype={\"Mp\" : str, \"T\" : str, \"Cn\" : str, \"IT\" : str, \"Date of registration\": str})\n",
    "df_eea_2022 = pd.read_csv(filepath_or_buffer = path + \"\\\\EEA2022.csv\", sep = \",\", dtype={\"Mp\" : str, \"T\" : str, \"Ve\" :str, \"Cn\" : str, \"IT\" : str, \"Date of registration\": str})\n",
    "\n",
    "#On crée un dictionaire contenant les noms et les variables de dataframe cela va nous permettre d'avoir le nom de chaque dataframe et de boucler sur la liste pour faire des opérations\n",
    "liste_dataframe = {\n",
    "                   \"df_eea_2022\" : df_eea_2022, \n",
    "                    }   "
   ]
  },
  {
   "cell_type": "markdown",
   "metadata": {},
   "source": [
    "#### A LANCER QUE SI NECESSAIRE : Pour tester l'hypothese de garder Man car c'est une variable qui a des modalités différentes pour un même Mh - ou non."
   ]
  },
  {
   "cell_type": "code",
   "execution_count": null,
   "metadata": {},
   "outputs": [],
   "source": [
    "# Exclure les lignes avec des valeurs nulles dans 'Mh' ou 'Man'\n",
    "df_non_null = df_eea_2010.dropna(subset=['Mh', 'Man'])\n",
    "\n",
    "# Groupez par 'Mh' et comptez le nombre de valeurs uniques dans 'Man' pour chaque groupe\n",
    "modalites_man_par_mh = df_eea_2010.groupby('Mh')['Man'].nunique()\n",
    "\n",
    "# Vérifiez si le nombre de modalités uniques de 'Man' pour chaque modalité de 'Mh' est égal à 1\n",
    "if (modalites_man_par_mh == 1).all():\n",
    "    print(\"Pour chaque modalité de 'Mh', il n'y a qu'une seule modalité correspondante dans 'Man'.\")\n",
    "else:\n",
    "    print(\"Il existe des cas où une modalité de 'Mh' a plus d'une modalité correspondante dans 'Man'.\")\n"
   ]
  },
  {
   "cell_type": "markdown",
   "metadata": {},
   "source": [
    "#### A CONTINUER : Analyse des df"
   ]
  },
  {
   "cell_type": "code",
   "execution_count": null,
   "metadata": {},
   "outputs": [],
   "source": [
    "# On crée une boucle pour explorer les données de chaque dataframe df_eea_20xx, on affiche \n",
    "#item permet de récupérer la clé + valeur d'un dictionnaire\n",
    "\n",
    "for nom, df in liste_dataframe.items() :\n",
    "    print(\"-------------------------------------------------------------\")\n",
    "    print(\"Exploration des données du dataframe :\", nom)\n",
    "    print(\"\\n\")\n",
    "    print(\"informations du dataframe :\", nom)\n",
    "    display(df.info())\n",
    "    print(\"\\n\")\n",
    "    print(\"Pourcentage de NA par variable du dataframe :\", nom)\n",
    "    display(df.isna().sum()/len(df.index))\n",
    "    print(\"\\n\")\n",
    "    print(\"Descriptif des variables du dataframe :\", nom)\n",
    "    display(df.describe())\n",
    "    print(\"\\n\")\n",
    "    print(\"-------------------------------------------------------------\")\n"
   ]
  },
  {
   "cell_type": "code",
   "execution_count": null,
   "metadata": {},
   "outputs": [],
   "source": [
    "# On affiche les 10 première ligne de chaque dataframe\n",
    "#Permet d'afficher toutes les colones\n",
    "pd.set_option('display.max_columns', None)\n",
    "for nom, df in liste_dataframe.items() :\n",
    "    print(\"-------------------------------------------------------------\")\n",
    "    print(\"les 10 premières lignes du dataframe :\", nom)\n",
    "    print(\"\\n\")\n",
    "    print(df.head(10))"
   ]
  },
  {
   "cell_type": "code",
   "execution_count": null,
   "metadata": {},
   "outputs": [],
   "source": [
    "# On vérifie les noms de variables des différents dataframes\n",
    "liste_variable_all =[]\n",
    "for nom, df in liste_dataframe.items() :\n",
    "    liste_variable_all.extend(df.columns)\n",
    "variables_uniques = list(set(liste_variable_all))\n",
    "\n",
    "print(\"les variables uniques des dataframe EEA sont\", variables_uniques)\n",
    "print(\"le nombre de variable est\", len(variables_uniques))\n",
    "\n"
   ]
  },
  {
   "cell_type": "code",
   "execution_count": null,
   "metadata": {},
   "outputs": [],
   "source": [
    "# On vérifie quelles variables sont manquantes dans chaque dataframe par rapport à l'ensemble des variables communes (union des variables de tout les dataframes)\n",
    "for nom, df in liste_dataframe.items() :\n",
    "     variables_uniques=[] # a verifier : creation de variables_uniques \n",
    "     y = list(df.columns)\n",
    "     result = list(set(variables_uniques) - set(y))\n",
    "     print(\"les variables non présentes dans le dataframe :\", nom, \"sont\", result)"
   ]
  },
  {
   "cell_type": "markdown",
   "metadata": {},
   "source": [
    "#### Focus 2022 - diminution des lignes via groupement par Pauline"
   ]
  },
  {
   "cell_type": "code",
   "execution_count": null,
   "metadata": {},
   "outputs": [],
   "source": [
    "print(\"Le nombre de lignes dans df_eea_2022 est:\", df_eea_2022.shape[0],'et le nombre de colonnes est:',df_eea_2022.shape[1])\n",
    "print(\"La taille du dataframe est:\", round((df_eea_2022.memory_usage().sum())/(1024 ** 3),2),\"Go\")"
   ]
  },
  {
   "cell_type": "code",
   "execution_count": null,
   "metadata": {},
   "outputs": [],
   "source": [
    "# suppression des colonnes ID et date of registration pour concatener les lignes avec des variables utiles.\n",
    "df_eea_2022.drop(['ID','Date of registration', \"MMS\", \"Mk\", \"Fm\", \"IT\", \"Ernedc (g/km)\", \"Erwltp (g/km)\", \"De\", \"Vf\", \"Status\", \"Electric range (km)\"], axis=1, inplace=True)\n",
    "print(\"Après suppresion des colonnes inutiles le nombre de lignes dans df_eea_2022 est:\", df_eea_2022.shape[0],'et le nombre de colonnes est:',df_eea_2022.shape[1])\n",
    "print(\"La taille du dataframe est maintenant:\", round((df_eea_2022.memory_usage().sum())/(1024 ** 3),2),\"Go\")"
   ]
  },
  {
   "cell_type": "code",
   "execution_count": null,
   "metadata": {},
   "outputs": [],
   "source": [
    "#Juste pour voir le nombre de lignes qui sont en doublons et qu'on va pouvoir supprimer pour alléger\n",
    "print('nb de colonnes dupliquées:',df_eea_2022.duplicated().sum())\n",
    "print('Somme des r, qui correspond actuellement au nombre de ligne du df :',df_eea_2022['r'].sum())"
   ]
  },
  {
   "cell_type": "code",
   "execution_count": null,
   "metadata": {},
   "outputs": [],
   "source": [
    "# Creation d'un identifier pour va outline les doublons - il doit contenir aprés drop le meme nombre de ligne que dessus\n",
    "# Création de la colonne 'unique_id' en concaténant toutes les autres colonnes\n",
    "df_eea_2022['unique_id'] = df_eea_2022.apply(lambda row: ''.join(map(str, row)), axis=1)\n",
    "print(\"Avec l'ajout d'un unique_id la taille du dataframe remonte à:\", round((df_eea_2022.memory_usage().sum())/(1024 ** 3),2),\"Go\")"
   ]
  },
  {
   "cell_type": "code",
   "execution_count": null,
   "metadata": {},
   "outputs": [],
   "source": [
    "# Regroupement de toutes les lignes selon l'unique ID en faisant la somme des enregistrements ('r')\n",
    "r_grouped = df_eea_2022.groupby(['unique_id']).agg({'r':'sum'}).reset_index()\n",
    "print(\"Le nombre de lignes dans r_grouped est:\", r_grouped.shape[0],'et la somme de la colonne r doit toujours correspondre au nb de lignes du df initial:',r_grouped['r'].sum())"
   ]
  },
  {
   "cell_type": "code",
   "execution_count": null,
   "metadata": {},
   "outputs": [],
   "source": [
    "# Merge du dt r_grouped et du df_eea_2022 dans un nouveau df. \n",
    "df_eea_2022_grouped=df_eea_2022.merge(right=r_grouped, on='unique_id', how='left')\n",
    "\n",
    "#Suppression des lignes en duplicats vu qu'on a fait la somme sur r\n",
    "df_eea_2022_grouped = df_eea_2022_grouped.drop_duplicates(keep = 'first')\n",
    "\n",
    "#suppression de l'ancienne colonne 'r' (devenue r_x) et de la colonne unique_id dont on a plus besoin\n",
    "df_eea_2022_grouped.drop(columns=['r_x','unique_id'], inplace=True)\n",
    "\n",
    "#renommer la colonne 'r_y' de r_merged en 'r'\n",
    "df_eea_2022_grouped = df_eea_2022_grouped.rename(columns = {'r_y':'r'})\n",
    "\n",
    "display(df_eea_2022_grouped.head())"
   ]
  },
  {
   "cell_type": "code",
   "execution_count": null,
   "metadata": {},
   "outputs": [],
   "source": [
    "# Ecriture du nouveau df en .csv pour servir de source pour les futurs besoins (data_viz et modélisation)\n",
    "df_eea_2022_grouped.to_csv(path+'\\\\EEA2022_grouped.csv', index=False)\n",
    "\n",
    "print('Somme des r dans le nouveau df:',df_eea_2022_grouped['r'].sum(),'vs nombre de ligne dans le df initial:',df_eea_2022['r'].sum())\n",
    "print(\"Le nombre de lignes dans df_eea_2022_grouped est:\", df_eea_2022_grouped.shape[0],'et le nombre de colonnes est:',df_eea_2022_grouped.shape[1])\n",
    "print(\"La taille du dataframe grouped est:\", round((df_eea_2022_grouped.memory_usage().sum())/(1024 ** 3),2),\"Go\")"
   ]
  }
 ],
 "metadata": {
  "kernelspec": {
   "display_name": "Python 3",
   "language": "python",
   "name": "python3"
  },
  "language_info": {
   "codemirror_mode": {
    "name": "ipython",
    "version": 3
   },
   "file_extension": ".py",
   "mimetype": "text/x-python",
   "name": "python",
   "nbconvert_exporter": "python",
   "pygments_lexer": "ipython3",
   "version": "3.12.0"
  }
 },
 "nbformat": 4,
 "nbformat_minor": 2
}
